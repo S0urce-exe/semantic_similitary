{
 "cells": [
  {
   "cell_type": "code",
   "execution_count": 1,
   "metadata": {},
   "outputs": [
    {
     "name": "stderr",
     "output_type": "stream",
     "text": [
      "/home/user/Vasenkov/vas_env/lib/python3.9/site-packages/whisper/__init__.py:150: FutureWarning: You are using `torch.load` with `weights_only=False` (the current default value), which uses the default pickle module implicitly. It is possible to construct malicious pickle data which will execute arbitrary code during unpickling (See https://github.com/pytorch/pytorch/blob/main/SECURITY.md#untrusted-models for more details). In a future release, the default value for `weights_only` will be flipped to `True`. This limits the functions that could be executed during unpickling. Arbitrary objects will no longer be allowed to be loaded via this mode unless they are explicitly allowlisted by the user via `torch.serialization.add_safe_globals`. We recommend you start setting `weights_only=True` for any use case where you don't have full control of the loaded file. Please open an issue on GitHub for any issues related to this experimental feature.\n",
      "  checkpoint = torch.load(fp, map_location=device)\n",
      "/home/user/Vasenkov/vas_env/lib/python3.9/site-packages/tqdm/auto.py:21: TqdmWarning: IProgress not found. Please update jupyter and ipywidgets. See https://ipywidgets.readthedocs.io/en/stable/user_install.html\n",
      "  from .autonotebook import tqdm as notebook_tqdm\n"
     ]
    }
   ],
   "source": [
    "import whisper\n",
    "import torch\n",
    "import numpy as np\n",
    "import matplotlib.pyplot as plt\n",
    "import IPython.display as ipd\n",
    "import os\n",
    "import json\n",
    "import csv\n",
    "# torch.cuda.empty_cache()\n",
    "import torch.nn as nn\n",
    "import torch.utils.data as data\n",
    "device = \"cuda\" if torch.cuda.is_available() else \"cpu\"\n",
    "# device = \"cpu\"\n",
    "model = whisper.load_model('small').to(device)\n",
    "# model = whisper.load_model('small').to(device)\n",
    "# import os\n",
    "# os.environ['CUDA_LAUNCH_BLOCKING'] = '1'\n",
    "# os.environ['TORCH_USE_CUDA_DSA'] = 'True'\n",
    "import pandas as pd\n",
    "# from datasets import Dataset, load_metric\n",
    "from transformers import WhisperProcessor, WhisperForConditionalGeneration, Trainer, TrainingArguments\n",
    "import soundfile as sf\n",
    "# processor = WhisperProcessor.from_pretrained(\"openai/whisper-large\", language=\"ru\")\n",
    "# model = WhisperForConditionalGeneration.from_pretrained(\"openai/whisper-large\")\n",
    "# model = whisper.load_model('medium')\n",
    "from whisper import DecodingResult\n",
    "from whisper.decoding import DecodingOptions\n",
    "from whisper.tokenizer import get_tokenizer\n",
    "\n",
    "tokenizer = get_tokenizer(\n",
    "        model.is_multilingual,\n",
    "        num_languages=model.num_languages,\n",
    "        language='ru',\n",
    "        task='transcribe',\n",
    "    )"
   ]
  },
  {
   "cell_type": "code",
   "execution_count": null,
   "metadata": {},
   "outputs": [],
   "source": [
    "from net_embeding2 import processor\n",
    "\n",
    "phrases = ['Машинист поезда 7 на приближении к станции Бабынино.', 'Привет, я машинист локомотива номер 131 на приближении к станции Москва, как дела?.', 'Да, аллё, машинист состава 35 на подходе к станции Калуга-1, что у вас случилось?']\n",
    "for phrase in phrases:\n",
    "    processor.run(phrase)"
   ]
  },
  {
   "cell_type": "code",
   "execution_count": 2,
   "metadata": {},
   "outputs": [],
   "source": [
    "def write_data_to_csv(filename, data):\n",
    "    with open(filename, mode='a+', newline='', encoding=\"utf-8\") as file:\n",
    "        writer = csv.writer(file)\n",
    "        for array, label in data:\n",
    "            # Преобразование массива в строку JSON\n",
    "            array_str = json.dumps(array.tolist())\n",
    "            writer.writerow([array_str, str(label)])\n",
    "\n",
    "def read_data_from_csv(filename):\n",
    "    embeddings = []\n",
    "    labels = []\n",
    "    \n",
    "    with open(filename, mode='r', encoding=\"utf-8\") as file:\n",
    "        reader = csv.reader(file)\n",
    "        next(reader)  # Пропускаем первую строку с заголовком\n",
    "        \n",
    "        for row in reader:\n",
    "            try:\n",
    "                embedding_str = row[0]\n",
    "                label = int(row[1])\n",
    "                # Преобразование строки в список чисел\n",
    "                embedding_json = json.loads(embedding_str)\n",
    "                embedding_array = np.array(embedding_json)\n",
    "                t = torch.from_numpy(embedding_array)\n",
    "                embeddings.append(t)\n",
    "                labels.append(label)\n",
    "            except Exception as e:\n",
    "                print(f\"Ошибка при обработке строки: {row}. Причина: {str(e)}\")\n",
    "    return embeddings, labels"
   ]
  },
  {
   "cell_type": "code",
   "execution_count": 3,
   "metadata": {},
   "outputs": [],
   "source": [
    "def get_embedding(file_):\n",
    "\n",
    "   audio = whisper.load_audio(file_)\n",
    "   tensor = whisper.log_mel_spectrogram(audio)\n",
    "   trim_tensor = whisper.pad_or_trim(tensor,length=3000)\n",
    "   print(trim_tensor.shape)\n",
    "   segment = trim_tensor.to(device)\n",
    "   print(type(segment), segment.shape, segment.device)\n",
    "   #rez = decode_with_fallback(trim_tensor, )\n",
    "\n",
    "   options = DecodingOptions(temperature=0)\n",
    "   decode_result = model.decode(segment.to(device), options)\n",
    "   embedding = decode_result.embedding\n",
    "   #trim_tensor = whisper.pad_or_trim(embedding,length=3000).unsqueeze(0)\n",
    "   return embedding"
   ]
  },
  {
   "cell_type": "code",
   "execution_count": 5,
   "metadata": {},
   "outputs": [
    {
     "name": "stdout",
     "output_type": "stream",
     "text": [
      "torch.Size([80, 3000])\n",
      "<class 'torch.Tensor'> torch.Size([80, 3000]) cuda:0\n"
     ]
    }
   ],
   "source": [
    "res = get_embedding('dataset/0/record_out.wav')"
   ]
  },
  {
   "cell_type": "code",
   "execution_count": 15,
   "metadata": {},
   "outputs": [
    {
     "name": "stdout",
     "output_type": "stream",
     "text": [
      "torch.Size([80, 3000])\n",
      "<class 'torch.Tensor'> torch.Size([80, 3000]) cuda:0\n",
      "torch.Size([80, 3000])\n",
      "<class 'torch.Tensor'> torch.Size([80, 3000]) cuda:0\n"
     ]
    }
   ],
   "source": [
    "res1, res2 = get_embedding('dataset/0/record_out.wav'), get_embedding('dataset/0/record_out1.wav')"
   ]
  },
  {
   "cell_type": "code",
   "execution_count": 16,
   "metadata": {},
   "outputs": [
    {
     "data": {
      "text/plain": [
       "tensor([0.9937], device='cuda:0', dtype=torch.float16)"
      ]
     },
     "execution_count": 16,
     "metadata": {},
     "output_type": "execute_result"
    }
   ],
   "source": [
    "torch.nn.functional.cosine_similarity(res1.squeeze(-2), res2.squeeze(-2))"
   ]
  },
  {
   "cell_type": "markdown",
   "metadata": {},
   "source": [
    "### Формирование эмбеддингов по всем примерам"
   ]
  },
  {
   "cell_type": "code",
   "execution_count": null,
   "metadata": {
    "scrolled": true
   },
   "outputs": [
    {
     "name": "stdout",
     "output_type": "stream",
     "text": [
      "torch.Size([80, 3000])\n",
      "<class 'torch.Tensor'> torch.Size([80, 3000]) cuda:0\n",
      "(1, 1, 768) 8\n",
      "torch.Size([80, 3000])\n",
      "<class 'torch.Tensor'> torch.Size([80, 3000]) cuda:0\n",
      "(1, 1, 768) 8\n",
      "torch.Size([80, 3000])\n",
      "<class 'torch.Tensor'> torch.Size([80, 3000]) cuda:0\n",
      "(1, 1, 768) 8\n",
      "torch.Size([80, 3000])\n",
      "<class 'torch.Tensor'> torch.Size([80, 3000]) cuda:0\n",
      "(1, 1, 768) 5\n",
      "torch.Size([80, 3000])\n",
      "<class 'torch.Tensor'> torch.Size([80, 3000]) cuda:0\n",
      "(1, 1, 768) 5\n",
      "torch.Size([80, 3000])\n",
      "<class 'torch.Tensor'> torch.Size([80, 3000]) cuda:0\n",
      "(1, 1, 768) 5\n",
      "torch.Size([80, 3000])\n",
      "<class 'torch.Tensor'> torch.Size([80, 3000]) cuda:0\n",
      "(1, 1, 768) 5\n",
      "torch.Size([80, 3000])\n",
      "<class 'torch.Tensor'> torch.Size([80, 3000]) cuda:0\n",
      "(1, 1, 768) 9\n",
      "torch.Size([80, 3000])\n",
      "<class 'torch.Tensor'> torch.Size([80, 3000]) cuda:0\n",
      "(1, 1, 768) 9\n",
      "torch.Size([80, 3000])\n",
      "<class 'torch.Tensor'> torch.Size([80, 3000]) cuda:0\n",
      "(1, 1, 768) 9\n",
      "torch.Size([80, 3000])\n",
      "<class 'torch.Tensor'> torch.Size([80, 3000]) cuda:0\n",
      "(1, 1, 768) 4\n",
      "torch.Size([80, 3000])\n",
      "<class 'torch.Tensor'> torch.Size([80, 3000]) cuda:0\n",
      "(1, 1, 768) 4\n",
      "torch.Size([80, 3000])\n",
      "<class 'torch.Tensor'> torch.Size([80, 3000]) cuda:0\n",
      "(1, 1, 768) 4\n",
      "torch.Size([80, 3000])\n",
      "<class 'torch.Tensor'> torch.Size([80, 3000]) cuda:0\n",
      "(1, 1, 768) 4\n",
      "torch.Size([80, 3000])\n",
      "<class 'torch.Tensor'> torch.Size([80, 3000]) cuda:0\n",
      "(1, 1, 768) 3\n",
      "torch.Size([80, 3000])\n",
      "<class 'torch.Tensor'> torch.Size([80, 3000]) cuda:0\n",
      "(1, 1, 768) 3\n",
      "torch.Size([80, 3000])\n",
      "<class 'torch.Tensor'> torch.Size([80, 3000]) cuda:0\n",
      "(1, 1, 768) 3\n",
      "torch.Size([80, 3000])\n",
      "<class 'torch.Tensor'> torch.Size([80, 3000]) cuda:0\n",
      "(1, 1, 768) 3\n",
      "torch.Size([80, 3000])\n",
      "<class 'torch.Tensor'> torch.Size([80, 3000]) cuda:0\n",
      "(1, 1, 768) 7\n",
      "torch.Size([80, 3000])\n",
      "<class 'torch.Tensor'> torch.Size([80, 3000]) cuda:0\n",
      "(1, 1, 768) 7\n",
      "torch.Size([80, 3000])\n",
      "<class 'torch.Tensor'> torch.Size([80, 3000]) cuda:0\n",
      "(1, 1, 768) 7\n",
      "torch.Size([80, 3000])\n",
      "<class 'torch.Tensor'> torch.Size([80, 3000]) cuda:0\n",
      "(1, 1, 768) 1\n",
      "torch.Size([80, 3000])\n",
      "<class 'torch.Tensor'> torch.Size([80, 3000]) cuda:0\n",
      "(1, 1, 768) 1\n",
      "torch.Size([80, 3000])\n",
      "<class 'torch.Tensor'> torch.Size([80, 3000]) cuda:0\n",
      "(1, 1, 768) 1\n",
      "torch.Size([80, 3000])\n",
      "<class 'torch.Tensor'> torch.Size([80, 3000]) cuda:0\n",
      "(1, 1, 768) 1\n",
      "torch.Size([80, 3000])\n",
      "<class 'torch.Tensor'> torch.Size([80, 3000]) cuda:0\n",
      "(1, 1, 768) 1\n",
      "torch.Size([80, 3000])\n",
      "<class 'torch.Tensor'> torch.Size([80, 3000]) cuda:0\n",
      "(1, 1, 768) 1\n",
      "torch.Size([80, 3000])\n",
      "<class 'torch.Tensor'> torch.Size([80, 3000]) cuda:0\n",
      "(1, 1, 768) 1\n",
      "torch.Size([80, 3000])\n",
      "<class 'torch.Tensor'> torch.Size([80, 3000]) cuda:0\n",
      "(1, 1, 768) 0\n",
      "torch.Size([80, 3000])\n",
      "<class 'torch.Tensor'> torch.Size([80, 3000]) cuda:0\n",
      "(1, 1, 768) 0\n",
      "torch.Size([80, 3000])\n",
      "<class 'torch.Tensor'> torch.Size([80, 3000]) cuda:0\n",
      "(1, 1, 768) 0\n",
      "torch.Size([80, 3000])\n",
      "<class 'torch.Tensor'> torch.Size([80, 3000]) cuda:0\n",
      "(1, 1, 768) 0\n",
      "torch.Size([80, 3000])\n",
      "<class 'torch.Tensor'> torch.Size([80, 3000]) cuda:0\n",
      "(1, 1, 768) 0\n",
      "torch.Size([80, 3000])\n",
      "<class 'torch.Tensor'> torch.Size([80, 3000]) cuda:0\n",
      "(1, 1, 768) 0\n",
      "torch.Size([80, 3000])\n",
      "<class 'torch.Tensor'> torch.Size([80, 3000]) cuda:0\n",
      "(1, 1, 768) 2\n",
      "torch.Size([80, 3000])\n",
      "<class 'torch.Tensor'> torch.Size([80, 3000]) cuda:0\n",
      "(1, 1, 768) 2\n",
      "torch.Size([80, 3000])\n",
      "<class 'torch.Tensor'> torch.Size([80, 3000]) cuda:0\n",
      "(1, 1, 768) 2\n",
      "torch.Size([80, 3000])\n",
      "<class 'torch.Tensor'> torch.Size([80, 3000]) cuda:0\n",
      "(1, 1, 768) 2\n",
      "torch.Size([80, 3000])\n",
      "<class 'torch.Tensor'> torch.Size([80, 3000]) cuda:0\n",
      "(1, 1, 768) 2\n",
      "torch.Size([80, 3000])\n",
      "<class 'torch.Tensor'> torch.Size([80, 3000]) cuda:0\n",
      "(1, 1, 768) 2\n",
      "torch.Size([80, 3000])\n",
      "<class 'torch.Tensor'> torch.Size([80, 3000]) cuda:0\n",
      "(1, 1, 768) 6\n",
      "torch.Size([80, 3000])\n",
      "<class 'torch.Tensor'> torch.Size([80, 3000]) cuda:0\n",
      "(1, 1, 768) 6\n",
      "torch.Size([80, 3000])\n",
      "<class 'torch.Tensor'> torch.Size([80, 3000]) cuda:0\n",
      "(1, 1, 768) 6\n",
      "torch.Size([80, 3000])\n",
      "<class 'torch.Tensor'> torch.Size([80, 3000]) cuda:0\n",
      "(1, 1, 768) 6\n"
     ]
    }
   ],
   "source": [
    "dir_ = 'dataset'\n",
    "filename = 'embeddings.csv'\n",
    "\n",
    "if not os.path.exists(filename):  # Если файл не существует, создаём его\n",
    "    with open(filename, mode='w', newline='', encoding=\"utf-8\") as file:\n",
    "        writer = csv.writer(file)\n",
    "        writer.writerow(['embedding', 'label'])  # Добавляем заголовок\n",
    "\n",
    "for root, dirs, files in os.walk(dir_, topdown=False):\n",
    "    for name in files:\n",
    "        if name.endswith('.ipynb'):  # Пропускаем файлы Jupyter Notebook\n",
    "            continue\n",
    "        file_path = os.path.join(root, name)\n",
    "        \n",
    "        emb = get_embedding(file_path)\n",
    "        emb = emb.tolist()\n",
    "        emb = np.array(emb)\n",
    "        \n",
    "        label = int(file_path.split('/')[-2])\n",
    "        \n",
    "        data_list = [(emb, label)]\n",
    "        print(emb.shape, label)\n",
    "        write_data_to_csv(filename, data_list)"
   ]
  },
  {
   "cell_type": "markdown",
   "metadata": {},
   "source": [
    "### Сравнение эмбеддингов по косинусному сходству"
   ]
  },
  {
   "cell_type": "code",
   "execution_count": 7,
   "metadata": {},
   "outputs": [],
   "source": [
    "new_labels = []\n",
    "cos_list = []"
   ]
  },
  {
   "cell_type": "code",
   "execution_count": 8,
   "metadata": {},
   "outputs": [],
   "source": [
    "embeddings, labels = read_data_from_csv('embeddings.csv')"
   ]
  },
  {
   "cell_type": "code",
   "execution_count": 9,
   "metadata": {
    "scrolled": true
   },
   "outputs": [
    {
     "data": {
      "text/plain": [
       "torch.Size([1, 1, 768])"
      ]
     },
     "execution_count": 9,
     "metadata": {},
     "output_type": "execute_result"
    }
   ],
   "source": [
    "embeddings[0].shape"
   ]
  },
  {
   "cell_type": "code",
   "execution_count": 10,
   "metadata": {
    "scrolled": true
   },
   "outputs": [],
   "source": [
    "for i in range(len(labels)):\n",
    "    for j in range(i + 1, len(labels)):  # Начинаем со следующего элемента после текущего\n",
    "        if labels[i] == labels[j]:\n",
    "            new_labels.append(1)\n",
    "        else:\n",
    "            new_labels.append(0)\n",
    "         \n",
    "        similarity = torch.nn.functional.cosine_similarity(embeddings[i].squeeze(-2), embeddings[j].squeeze(-2))\n",
    "        cos_list.append(similarity.item())\n",
    "        # print(similarity.item())\n"
   ]
  },
  {
   "cell_type": "code",
   "execution_count": 11,
   "metadata": {
    "scrolled": true
   },
   "outputs": [
    {
     "data": {
      "image/png": "[encoded data removed]",
      "text/plain": [
       "<Figure size 640x480 with 1 Axes>"
      ]
     },
     "metadata": {},
     "output_type": "display_data"
    }
   ],
   "source": [
    "index0 = np.where(np.array(new_labels) == 0)\n",
    "index1 = np.where(np.array(new_labels) == 1)\n",
    "\n",
    "cos_list = np.array(cos_list)\n",
    "\n",
    "plt.hist(cos_list[index0])\n",
    "plt.hist(cos_list[index1])\n",
    "plt.show()"
   ]
  },
  {
   "cell_type": "code",
   "execution_count": null,
   "metadata": {},
   "outputs": [],
   "source": []
  },
  {
   "cell_type": "code",
   "execution_count": 12,
   "metadata": {},
   "outputs": [
    {
     "name": "stdout",
     "output_type": "stream",
     "text": [
      "one_dictor_my/7/record_out(7).wav\n"
     ]
    },
    {
     "ename": "ValueError",
     "evalue": "rate must be specified when data is a numpy array or list of audio samples.",
     "output_type": "error",
     "traceback": [
      "\u001b[0;31m---------------------------------------------------------------------------\u001b[0m",
      "\u001b[0;31mValueError\u001b[0m                                Traceback (most recent call last)",
      "Cell \u001b[0;32mIn[12], line 7\u001b[0m\n\u001b[1;32m      5\u001b[0m audio_file_path \u001b[38;5;241m=\u001b[39m audio_file_path[\u001b[38;5;241m9\u001b[39m:]\n\u001b[1;32m      6\u001b[0m \u001b[38;5;28mprint\u001b[39m(audio_file_path)\n\u001b[0;32m----> 7\u001b[0m \u001b[43mipd\u001b[49m\u001b[38;5;241;43m.\u001b[39;49m\u001b[43mAudio\u001b[49m\u001b[43m(\u001b[49m\u001b[43maudio_file_path\u001b[49m\u001b[43m)\u001b[49m\n",
      "File \u001b[0;32m~/Vasenkov/vas_env/lib/python3.9/site-packages/IPython/lib/display.py:129\u001b[0m, in \u001b[0;36mAudio.__init__\u001b[0;34m(self, data, filename, url, embed, rate, autoplay, normalize, element_id)\u001b[0m\n\u001b[1;32m    127\u001b[0m \u001b[38;5;28;01mif\u001b[39;00m \u001b[38;5;28mself\u001b[39m\u001b[38;5;241m.\u001b[39mdata \u001b[38;5;129;01mis\u001b[39;00m \u001b[38;5;129;01mnot\u001b[39;00m \u001b[38;5;28;01mNone\u001b[39;00m \u001b[38;5;129;01mand\u001b[39;00m \u001b[38;5;129;01mnot\u001b[39;00m \u001b[38;5;28misinstance\u001b[39m(\u001b[38;5;28mself\u001b[39m\u001b[38;5;241m.\u001b[39mdata, \u001b[38;5;28mbytes\u001b[39m):\n\u001b[1;32m    128\u001b[0m     \u001b[38;5;28;01mif\u001b[39;00m rate \u001b[38;5;129;01mis\u001b[39;00m \u001b[38;5;28;01mNone\u001b[39;00m:\n\u001b[0;32m--> 129\u001b[0m         \u001b[38;5;28;01mraise\u001b[39;00m \u001b[38;5;167;01mValueError\u001b[39;00m(\u001b[38;5;124m\"\u001b[39m\u001b[38;5;124mrate must be specified when data is a numpy array or list of audio samples.\u001b[39m\u001b[38;5;124m\"\u001b[39m)\n\u001b[1;32m    130\u001b[0m     \u001b[38;5;28mself\u001b[39m\u001b[38;5;241m.\u001b[39mdata \u001b[38;5;241m=\u001b[39m Audio\u001b[38;5;241m.\u001b[39m_make_wav(data, rate, normalize)\n",
      "\u001b[0;31mValueError\u001b[0m: rate must be specified when data is a numpy array or list of audio samples."
     ]
    }
   ],
   "source": [
    "import IPython.display as ipd\n",
    "\n",
    "\n",
    "audio_file_path = 'Vasenkov/one_dictor_my/7/record_out(7).wav'\n",
    "audio_file_path = audio_file_path[9:]\n",
    "print(audio_file_path)\n",
    "ipd.Audio(audio_file_path)"
   ]
  },
  {
   "cell_type": "code",
   "execution_count": null,
   "metadata": {},
   "outputs": [],
   "source": [
    "for i in lst:\n",
    "    for j in lst:\n",
    "        emb1 = torch.FloatTensor(i.tokens)\n",
    "        emb2 = torch.FloatTensor(j.tokens)\n",
    "        trim_tensor1 = whisper.pad_or_trim(emb1,length=3000)\n",
    "        trim_tensor2 = whisper.pad_or_trim(emb2,length=3000)\n",
    "        "
   ]
  },
  {
   "cell_type": "code",
   "execution_count": 43,
   "metadata": {},
   "outputs": [
    {
     "data": {
      "text/plain": [
       "tensor([5.0364e+04, 8.5670e+03, 3.6050e+03, 1.0442e+04, 4.2510e+03, 1.0250e+03,\n",
       "        4.4477e+04, 8.0500e+02, 2.4498e+04, 6.9800e+02, 2.4051e+04, 4.4330e+03,\n",
       "        2.2090e+03, 2.8010e+03, 2.6510e+04, 5.6800e+02, 3.8427e+04, 8.2540e+03,\n",
       "        5.0649e+04, 5.0649e+04, 7.7600e+02, 3.6847e+04, 1.1350e+03, 8.0500e+02,\n",
       "        1.3000e+01, 5.0712e+04, 0.0000e+00, 0.0000e+00, 0.0000e+00, 0.0000e+00])"
      ]
     },
     "execution_count": 43,
     "metadata": {},
     "output_type": "execute_result"
    }
   ],
   "source": [
    "lst_emb[0][0][:30]"
   ]
  },
  {
   "cell_type": "code",
   "execution_count": 8,
   "metadata": {},
   "outputs": [
    {
     "data": {
      "text/plain": [
       "torch.Size([1, 1, 768])"
      ]
     },
     "execution_count": 8,
     "metadata": {},
     "output_type": "execute_result"
    }
   ],
   "source": [
    "t.shape"
   ]
  },
  {
   "cell_type": "code",
   "execution_count": 16,
   "metadata": {},
   "outputs": [],
   "source": [
    "E = nn.Embedding(51000,  128)"
   ]
  },
  {
   "cell_type": "code",
   "execution_count": 17,
   "metadata": {},
   "outputs": [
    {
     "data": {
      "text/plain": [
       "torch.Size([1, 3000, 128])"
      ]
     },
     "execution_count": 17,
     "metadata": {},
     "output_type": "execute_result"
    }
   ],
   "source": [
    "et = E(t.int())\n",
    "et.shape"
   ]
  },
  {
   "cell_type": "code",
   "execution_count": 14,
   "metadata": {},
   "outputs": [
    {
     "data": {
      "text/plain": [
       "torch.Size([1, 4, 2990])"
      ]
     },
     "execution_count": 14,
     "metadata": {},
     "output_type": "execute_result"
    }
   ],
   "source": [
    "C = nn.Conv1d(128, 4, 11)\n",
    "ct = C(torch.tensor(et.detach().numpy().transpose( [0, 2, 1])))\n",
    "ct.shape"
   ]
  },
  {
   "cell_type": "code",
   "execution_count": 18,
   "metadata": {},
   "outputs": [
    {
     "data": {
      "text/plain": [
       "torch.Size([1, 4, 128])"
      ]
     },
     "execution_count": 18,
     "metadata": {},
     "output_type": "execute_result"
    }
   ],
   "source": [
    "C = nn.Conv1d(3000, 4, 5, stride=1, padding=2)\n",
    "ct = C(et)\n",
    "ct.shape"
   ]
  },
  {
   "cell_type": "code",
   "execution_count": 19,
   "metadata": {},
   "outputs": [
    {
     "data": {
      "text/plain": [
       "torch.Size([1, 1, 128])"
      ]
     },
     "execution_count": 19,
     "metadata": {},
     "output_type": "execute_result"
    }
   ],
   "source": [
    "C2 = nn.Conv1d(4, 1, 5, stride=1, padding=2)\n",
    "ct2 = C2(ct)\n",
    "ct2.shape\n",
    "\n",
    "#размерность x на выходе 1 1 768\n"
   ]
  },
  {
   "cell_type": "code",
   "execution_count": 40,
   "metadata": {},
   "outputs": [],
   "source": [
    "class EmbDataset(data.Dataset):\n",
    "    def __init__(self, path):\n",
    "        self.path = path        \n",
    "        self.embeddings, self.labels = read_data_from_csv(self.path)\n",
    "    \n",
    "    def __getitem__(self, item):\n",
    "        # !!! СДЕЛАТЬ ЧТОБЫ БРАЛОСЬ ИТЕРАТИВНО, А НЕ ВСЁ СРАЗУ\n",
    "        # embeddings, labels = read_data_from_csv(self.path)\n",
    "        print(item)\n",
    "        label = self.labels[item]\n",
    "        label = torch.tensor(label) \n",
    "        t = self.embeddings[item]\n",
    "        \n",
    "        # E = nn.Embedding(51000,  128)\n",
    "        # print(t)\n",
    "        # et = E(t.int())\n",
    "\n",
    "        # C = nn.Conv1d(3000, 4, 5, stride=1, padding=2)\n",
    "        # ct = C(et)\n",
    "        # C2 = nn.Conv1d(4, 1, 5, stride=1, padding=2)\n",
    "        # ct2 = C2(ct)\n",
    "        \n",
    "        # label = torch.tensor(self.labels[item])        \n",
    "        return t, label\n",
    "                \n",
    "\n",
    "    def __len__(self):\n",
    "        return len(self.embeddings)\n",
    "\n",
    "\n",
    "d_train = EmbDataset(\"embeddings.csv\")\n",
    "train_data = data.DataLoader(d_train, batch_size=6, shuffle=True)\n",
    "\n",
    "# it = iter(train_data)\n",
    "# x, y = next(it)"
   ]
  },
  {
   "cell_type": "markdown",
   "metadata": {},
   "source": [
    "### Триплеты"
   ]
  },
  {
   "cell_type": "code",
   "execution_count": 42,
   "metadata": {
    "scrolled": true
   },
   "outputs": [
    {
     "name": "stdout",
     "output_type": "stream",
     "text": [
      "0\n",
      "39\n",
      "23\n",
      "1\n",
      "22\n",
      "42\n",
      "torch.Size([6, 1, 1, 768])\n",
      "Epoch 1/100, Loss: 0.0445\n",
      "8\n",
      "27\n",
      "36\n",
      "32\n",
      "34\n",
      "37\n",
      "torch.Size([6, 1, 1, 768])\n",
      "Epoch 2/100, Loss: 0.0487\n",
      "43\n",
      "14\n",
      "41\n",
      "11\n",
      "10\n",
      "33\n",
      "torch.Size([6, 1, 1, 768])\n",
      "Epoch 3/100, Loss: 0.0481\n",
      "6\n",
      "35\n",
      "24\n",
      "9\n",
      "20\n",
      "21\n",
      "torch.Size([6, 1, 1, 768])\n",
      "Epoch 4/100, Loss: 0.0508\n",
      "40\n",
      "5\n",
      "3\n",
      "18\n",
      "26\n",
      "30\n",
      "torch.Size([6, 1, 1, 768])\n",
      "Epoch 5/100, Loss: 0.0466\n",
      "19\n",
      "17\n",
      "38\n",
      "4\n",
      "28\n",
      "29\n",
      "torch.Size([6, 1, 1, 768])\n",
      "Epoch 6/100, Loss: 0.0473\n",
      "15\n",
      "31\n",
      "16\n",
      "13\n",
      "25\n",
      "2\n",
      "torch.Size([6, 1, 1, 768])\n",
      "Epoch 7/100, Loss: 0.0485\n",
      "7\n",
      "12\n",
      "torch.Size([2, 1, 1, 768])\n",
      "Epoch 8/100, Loss: 0.0000\n"
     ]
    }
   ],
   "source": [
    "from pytorch_metric_learning import losses\n",
    "from torch import nn\n",
    "from random import randint\n",
    "from pytorch_metric_learning.distances import CosineSimilarity\n",
    "from pytorch_metric_learning.miners import TripletMarginMiner\n",
    "\n",
    "\n",
    "class LayerNorm(nn.LayerNorm):\n",
    "    def forward(self, x):\n",
    "        return super().forward(x.float()).type(x.dtype)\n",
    "\n",
    "class LinearClassifier(nn.Module):\n",
    "    def __init__(self, input_dim):\n",
    "        super().__init__()\n",
    "        # self.embedding = nn.Embedding(input_dim, 128)\n",
    "        # self.conv = nn.Conv1d()\n",
    "        self.linear = nn.Linear(input_dim, 128)\n",
    "    \n",
    "    def forward(self, x):\n",
    "        return torch.sigmoid(self.linear(x))\n",
    "\n",
    "\n",
    "cosine_distance = CosineSimilarity()\n",
    "model = LinearClassifier(768)\n",
    "loss_func = losses.TripletMarginLoss(distance=cosine_distance)\n",
    "optimizer = torch.optim.SGD(model.parameters(), lr=0.01)\n",
    "\n",
    "model.train()\n",
    "\n",
    "for i, (data, label) in enumerate(train_data):\n",
    "    data = data.to(dtype=torch.float32)\n",
    "    print(data.shape)\n",
    "    optimizer.zero_grad()\n",
    "    # print(data.dtype)\n",
    "    embeddings = model(data).squeeze()\n",
    "    # print(embeddings.shape, label)\n",
    "    loss = loss_func(embeddings, label)\n",
    "    loss.backward()\n",
    "    optimizer.step()\n",
    "    \n",
    "    print(f'Epoch {i+1}/{100}, Loss: {loss.item():.4f}')\n",
    "\n",
    "# for epoch in range(100):\n",
    "#     k = randint(0, total-1)\n",
    "#     optimizer.zero_grad()\n",
    "#     outputs = model(X)\n",
    "#     loss = criterion(outputs.squeeze(), y.float())\n",
    "#     loss.backward()\n",
    "#     optimizer.step()\n",
    "#     print(f'Epoch {epoch+1}/{100}, Loss: {loss.item():.4f}')\n"
   ]
  }
 ],
 "metadata": {
  "kernelspec": {
   "display_name": ".venv",
   "language": "python",
   "name": "python3"
  },
  "language_info": {
   "codemirror_mode": {
    "name": "ipython",
    "version": 3
   },
   "file_extension": ".py",
   "mimetype": "text/x-python",
   "name": "python",
   "nbconvert_exporter": "python",
   "pygments_lexer": "ipython3",
   "version": "3.12.8"
  }
 },
 "nbformat": 4,
 "nbformat_minor": 4
}
